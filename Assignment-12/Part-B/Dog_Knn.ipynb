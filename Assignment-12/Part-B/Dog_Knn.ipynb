{
  "nbformat": 4,
  "nbformat_minor": 0,
  "metadata": {
    "colab": {
      "name": "Dog Knn.ipynb",
      "provenance": [],
      "collapsed_sections": [],
      "include_colab_link": true
    },
    "kernelspec": {
      "name": "python3",
      "display_name": "Python 3"
    },
    "accelerator": "GPU"
  },
  "cells": [
    {
      "cell_type": "markdown",
      "metadata": {
        "id": "view-in-github",
        "colab_type": "text"
      },
      "source": [
        "<a href=\"https://colab.research.google.com/github/divyanshbajpai/EVA4-Coursework/blob/master/Assignment-12/Dog_Knn.ipynb\" target=\"_parent\"><img src=\"https://colab.research.google.com/assets/colab-badge.svg\" alt=\"Open In Colab\"/></a>"
      ]
    },
    {
      "cell_type": "code",
      "metadata": {
        "id": "burTqnod_H-k",
        "colab_type": "code",
        "outputId": "8b9881a1-bd43-4a22-a6a4-bb2f38cf0eaf",
        "colab": {
          "base_uri": "https://localhost:8080/",
          "height": 125
        }
      },
      "source": [
        "from google.colab import drive\n",
        "drive.mount('/content/gdrive')"
      ],
      "execution_count": 2,
      "outputs": [
        {
          "output_type": "stream",
          "text": [
            "Go to this URL in a browser: https://accounts.google.com/o/oauth2/auth?client_id=947318989803-6bn6qk8qdgf4n4g3pfee6491hc0brc4i.apps.googleusercontent.com&redirect_uri=urn%3aietf%3awg%3aoauth%3a2.0%3aoob&response_type=code&scope=email%20https%3a%2f%2fwww.googleapis.com%2fauth%2fdocs.test%20https%3a%2f%2fwww.googleapis.com%2fauth%2fdrive%20https%3a%2f%2fwww.googleapis.com%2fauth%2fdrive.photos.readonly%20https%3a%2f%2fwww.googleapis.com%2fauth%2fpeopleapi.readonly\n",
            "\n",
            "Enter your authorization code:\n",
            "··········\n",
            "Mounted at /content/gdrive\n"
          ],
          "name": "stdout"
        }
      ]
    },
    {
      "cell_type": "code",
      "metadata": {
        "id": "EGCwX09-_bwe",
        "colab_type": "code",
        "outputId": "f17fa099-5130-4df5-c295-e70c1d0f4639",
        "colab": {
          "base_uri": "https://localhost:8080/",
          "height": 34
        }
      },
      "source": [
        "!ls"
      ],
      "execution_count": 3,
      "outputs": [
        {
          "output_type": "stream",
          "text": [
            "gdrive\tsample_data\n"
          ],
          "name": "stdout"
        }
      ]
    },
    {
      "cell_type": "code",
      "metadata": {
        "id": "M5O4K0IJ_xYw",
        "colab_type": "code",
        "outputId": "6dd78a52-0dda-4a15-9391-57210d9d5cb7",
        "colab": {
          "base_uri": "https://localhost:8080/",
          "height": 34
        }
      },
      "source": [
        "cd gdrive/My\\ Drive/Assignment12/dogs/"
      ],
      "execution_count": 4,
      "outputs": [
        {
          "output_type": "stream",
          "text": [
            "/content/gdrive/.shortcut-targets-by-id/1o3xlpL_QaLGK7CSbpRIcEQdiu5cTRbJ3/Assignment12/dogs\n"
          ],
          "name": "stdout"
        }
      ]
    },
    {
      "cell_type": "code",
      "metadata": {
        "id": "1maZ8Vf9Dje6",
        "colab_type": "code",
        "colab": {}
      },
      "source": [
        "import json\n",
        "from PIL import Image\n",
        "import pandas as pd"
      ],
      "execution_count": 0,
      "outputs": []
    },
    {
      "cell_type": "code",
      "metadata": {
        "id": "F3ET9YrLFh5M",
        "colab_type": "code",
        "colab": {}
      },
      "source": [
        "with open(\"dog_annotations.json\", \"r\") as read_file:\n",
        "    data = json.load(read_file)"
      ],
      "execution_count": 0,
      "outputs": []
    },
    {
      "cell_type": "code",
      "metadata": {
        "id": "5umJwH9JKb6k",
        "colab_type": "code",
        "colab": {}
      },
      "source": [
        "processed_df = pd.DataFrame(columns=['x', 'y', 'width','height','norm_x','norm_y','norm_width','norm_height'])"
      ],
      "execution_count": 0,
      "outputs": []
    },
    {
      "cell_type": "code",
      "metadata": {
        "id": "jS8PhrDJF5Wl",
        "colab_type": "code",
        "colab": {}
      },
      "source": [
        "for row in data:\n",
        "  my_dict = {\n",
        "      \"x\" : 1,\n",
        "      \"y\" : 1,\n",
        "      \"width\": 1,\n",
        "      \"height\": 1,\n",
        "      \"norm_x\" : 1,\n",
        "      \"norm_y\" : 1,\n",
        "      \"norm_width\": 1,\n",
        "      \"norm_height\": 1\n",
        "  }\n",
        "  filename = data[row][\"filename\"]\n",
        "  image = Image.open(filename)\n",
        "  dim = image.size\n",
        "  my_dict[\"x\"] = data[row][\"regions\"][0][\"shape_attributes\"][\"x\"]\n",
        "  my_dict[\"y\"] = data[row][\"regions\"][0][\"shape_attributes\"][\"y\"]\n",
        "  my_dict[\"width\"] = data[row][\"regions\"][0][\"shape_attributes\"][\"width\"]\n",
        "  my_dict[\"height\"] = data[row][\"regions\"][0][\"shape_attributes\"][\"height\"]\n",
        "  my_dict[\"norm_x\"] = data[row][\"regions\"][0][\"shape_attributes\"][\"x\"] / dim[0]\n",
        "  my_dict[\"norm_y\"] = data[row][\"regions\"][0][\"shape_attributes\"][\"y\"] / dim[1]\n",
        "  my_dict[\"norm_width\"] = data[row][\"regions\"][0][\"shape_attributes\"][\"width\"] / dim[0]\n",
        "  my_dict[\"norm_height\"] = data[row][\"regions\"][0][\"shape_attributes\"][\"height\"] / dim[1]\n",
        "  my_series = pd.Series(my_dict)\n",
        "  processed_df = processed_df.append(my_series, ignore_index=True)\n",
        "  "
      ],
      "execution_count": 0,
      "outputs": []
    },
    {
      "cell_type": "code",
      "metadata": {
        "id": "LndmqzclGKD7",
        "colab_type": "code",
        "outputId": "7515feb2-97c5-41e8-bafb-2823212e5ec3",
        "colab": {
          "base_uri": "https://localhost:8080/",
          "height": 195
        }
      },
      "source": [
        "processed_df.head()"
      ],
      "execution_count": 10,
      "outputs": [
        {
          "output_type": "execute_result",
          "data": {
            "text/html": [
              "<div>\n",
              "<style scoped>\n",
              "    .dataframe tbody tr th:only-of-type {\n",
              "        vertical-align: middle;\n",
              "    }\n",
              "\n",
              "    .dataframe tbody tr th {\n",
              "        vertical-align: top;\n",
              "    }\n",
              "\n",
              "    .dataframe thead th {\n",
              "        text-align: right;\n",
              "    }\n",
              "</style>\n",
              "<table border=\"1\" class=\"dataframe\">\n",
              "  <thead>\n",
              "    <tr style=\"text-align: right;\">\n",
              "      <th></th>\n",
              "      <th>x</th>\n",
              "      <th>y</th>\n",
              "      <th>width</th>\n",
              "      <th>height</th>\n",
              "      <th>norm_x</th>\n",
              "      <th>norm_y</th>\n",
              "      <th>norm_width</th>\n",
              "      <th>norm_height</th>\n",
              "    </tr>\n",
              "  </thead>\n",
              "  <tbody>\n",
              "    <tr>\n",
              "      <th>0</th>\n",
              "      <td>106.0</td>\n",
              "      <td>9.0</td>\n",
              "      <td>159.0</td>\n",
              "      <td>155.0</td>\n",
              "      <td>0.347541</td>\n",
              "      <td>0.054545</td>\n",
              "      <td>0.521311</td>\n",
              "      <td>0.939394</td>\n",
              "    </tr>\n",
              "    <tr>\n",
              "      <th>1</th>\n",
              "      <td>111.0</td>\n",
              "      <td>22.0</td>\n",
              "      <td>91.0</td>\n",
              "      <td>108.0</td>\n",
              "      <td>0.403636</td>\n",
              "      <td>0.120219</td>\n",
              "      <td>0.330909</td>\n",
              "      <td>0.590164</td>\n",
              "    </tr>\n",
              "    <tr>\n",
              "      <th>2</th>\n",
              "      <td>100.0</td>\n",
              "      <td>7.0</td>\n",
              "      <td>106.0</td>\n",
              "      <td>158.0</td>\n",
              "      <td>0.333333</td>\n",
              "      <td>0.041667</td>\n",
              "      <td>0.353333</td>\n",
              "      <td>0.940476</td>\n",
              "    </tr>\n",
              "    <tr>\n",
              "      <th>3</th>\n",
              "      <td>50.0</td>\n",
              "      <td>12.0</td>\n",
              "      <td>252.0</td>\n",
              "      <td>145.0</td>\n",
              "      <td>0.163934</td>\n",
              "      <td>0.072727</td>\n",
              "      <td>0.826230</td>\n",
              "      <td>0.878788</td>\n",
              "    </tr>\n",
              "    <tr>\n",
              "      <th>4</th>\n",
              "      <td>44.0</td>\n",
              "      <td>19.0</td>\n",
              "      <td>127.0</td>\n",
              "      <td>190.0</td>\n",
              "      <td>0.195556</td>\n",
              "      <td>0.084444</td>\n",
              "      <td>0.564444</td>\n",
              "      <td>0.844444</td>\n",
              "    </tr>\n",
              "  </tbody>\n",
              "</table>\n",
              "</div>"
            ],
            "text/plain": [
              "       x     y  width  height    norm_x    norm_y  norm_width  norm_height\n",
              "0  106.0   9.0  159.0   155.0  0.347541  0.054545    0.521311     0.939394\n",
              "1  111.0  22.0   91.0   108.0  0.403636  0.120219    0.330909     0.590164\n",
              "2  100.0   7.0  106.0   158.0  0.333333  0.041667    0.353333     0.940476\n",
              "3   50.0  12.0  252.0   145.0  0.163934  0.072727    0.826230     0.878788\n",
              "4   44.0  19.0  127.0   190.0  0.195556  0.084444    0.564444     0.844444"
            ]
          },
          "metadata": {
            "tags": []
          },
          "execution_count": 10
        }
      ]
    },
    {
      "cell_type": "code",
      "metadata": {
        "id": "oxZ6VwG9O_5k",
        "colab_type": "code",
        "colab": {}
      },
      "source": [
        "from sklearn.cluster import KMeans\n",
        "import matplotlib.pyplot as plt"
      ],
      "execution_count": 0,
      "outputs": []
    },
    {
      "cell_type": "code",
      "metadata": {
        "id": "UVnUDqeMSDPG",
        "colab_type": "code",
        "outputId": "67d2f30f-b6d2-410d-b369-252beb5cb0b0",
        "colab": {
          "base_uri": "https://localhost:8080/",
          "height": 388
        }
      },
      "source": [
        "\n",
        "sse = []\n",
        "list_k = list(range(1, 30))\n",
        "\n",
        "for k in list_k:\n",
        "    km = KMeans(n_clusters=k)\n",
        "    km.fit(processed_df[[\"norm_x\",\"norm_y\"]])\n",
        "    sse.append(km.inertia_)\n",
        "\n",
        "# Plot sse against k\n",
        "plt.figure(figsize=(6, 6))\n",
        "plt.plot(list_k, sse, '-o')\n",
        "plt.xlabel(r'Number of clusters *k*')\n",
        "plt.ylabel('Sum of squared distance');"
      ],
      "execution_count": 12,
      "outputs": [
        {
          "output_type": "display_data",
          "data": {
            "image/png": "[encoded data removed]",
            "text/plain": [
              "<Figure size 432x432 with 1 Axes>"
            ]
          },
          "metadata": {
            "tags": [],
            "needs_background": "light"
          }
        }
      ]
    },
    {
      "cell_type": "code",
      "metadata": {
        "id": "xDTH7zYRTJNv",
        "colab_type": "code",
        "colab": {}
      },
      "source": [
        ""
      ],
      "execution_count": 0,
      "outputs": []
    }
  ]
}
