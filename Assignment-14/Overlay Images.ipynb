{
 "cells": [
  {
   "cell_type": "code",
   "execution_count": 11,
   "metadata": {},
   "outputs": [],
   "source": [
    "import os\n",
    "import random"
   ]
  },
  {
   "cell_type": "code",
   "execution_count": 12,
   "metadata": {},
   "outputs": [
    {
     "name": "stdout",
     "output_type": "stream",
     "text": [
      "C:\\Users\\I068237\n"
     ]
    }
   ],
   "source": [
    "original_path = os.getcwd()\n",
    "print(original_path)"
   ]
  },
  {
   "cell_type": "code",
   "execution_count": 13,
   "metadata": {},
   "outputs": [],
   "source": [
    "bg_path = os.path.join(os.getcwd(),'bg')\n",
    "fg_path = os.path.join(original_path, 'fg')\n",
    "mask_path = os.path.join(original_path, 'mask')\n",
    "overlay_path = os.path.join(original_path, 'overlay')\n",
    "mask_overlay_path = os.path.join(original_path, 'maskoverlay')\n",
    "ref_mask = os.path.join(original_path, 'ref_mask.jpg')"
   ]
  },
  {
   "cell_type": "code",
   "execution_count": 4,
   "metadata": {},
   "outputs": [],
   "source": [
    "os.chdir(bg_path)"
   ]
  },
  {
   "cell_type": "code",
   "execution_count": 6,
   "metadata": {},
   "outputs": [
    {
     "name": "stdout",
     "output_type": "stream",
     "text": [
      "img1\n"
     ]
    }
   ],
   "source": [
    "print(os.listdir(bg_path)[0][:-4])"
   ]
  },
  {
   "cell_type": "code",
   "execution_count": 16,
   "metadata": {},
   "outputs": [],
   "source": [
    "from PIL import Image, ImageOps\n",
    "ref_im = Image.open(ref_mask)\n",
    "count = 0\n",
    "for bg_file in os.listdir(bg_path):\n",
    "    bg_im = Image.open(os.path.join(bg_path,bg_file))\n",
    "    for fg_file in os.listdir(fg_path):\n",
    "        fg_im = Image.open(os.path.join(fg_path,fg_file))\n",
    "        x,y = fg_im.size\n",
    "        for i in range(20):\n",
    "            rand_x = 25 + round( random.random() * 175 )\n",
    "            if rand_x + x > 255 :\n",
    "                temp = rand_x + x - 255\n",
    "                rand_x = rand_x - temp\n",
    "            rand_y = round( random.random() * 205 )\n",
    "            if rand_y + y > 255:\n",
    "                temp = rand_y + y - 255\n",
    "                rand_y = rand_y - temp\n",
    "            bg_copy = bg_im.copy()\n",
    "            bg_copy.paste(fg_im, (rand_x,rand_y),fg_im)\n",
    "            file_name = bg_file[:-4] + '_' + fg_file[:-4] + '_' + str(i) + '.jpg'\n",
    "            \n",
    "            file_path = os.path.join(overlay_path, file_name)\n",
    "            f = open(file_path, \"w+\")\n",
    "            f.close()\n",
    "            bg_copy.save(file_path)\n",
    "            bg_copy.close()\n",
    "            ref_im_copy = ref_im.copy()\n",
    "            mask_file_name = 'mask_' + bg_file[:-4] + '_' + fg_file[:-4] + '_' + str(i) + '.jpg'\n",
    "            mask_im = Image.open(os.path.join(mask_path,fg_file[:-4] + '.jpg'))\n",
    "            ref_im_copy.paste(mask_im,(rand_x,rand_y))\n",
    "            mask_file_path = os.path.join(mask_overlay_path, mask_file_name)\n",
    "            f = open(mask_file_path, \"w+\")\n",
    "            f.close()\n",
    "            ref_im_copy.save(mask_file_path)\n",
    "            ref_im_copy.close()\n",
    "            \n",
    "\n",
    "        "
   ]
  },
  {
   "cell_type": "code",
   "execution_count": 10,
   "metadata": {},
   "outputs": [],
   "source": [
    "os.chdir(original_path)"
   ]
  },
  {
   "cell_type": "code",
   "execution_count": null,
   "metadata": {},
   "outputs": [],
   "source": []
  }
 ],
 "metadata": {
  "kernelspec": {
   "display_name": "Python 3",
   "language": "python",
   "name": "python3"
  },
  "language_info": {
   "codemirror_mode": {
    "name": "ipython",
    "version": 3
   },
   "file_extension": ".py",
   "mimetype": "text/x-python",
   "name": "python",
   "nbconvert_exporter": "python",
   "pygments_lexer": "ipython3",
   "version": "3.7.3"
  }
 },
 "nbformat": 4,
 "nbformat_minor": 2
}
