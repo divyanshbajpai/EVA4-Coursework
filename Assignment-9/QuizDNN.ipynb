{
  "nbformat": 4,
  "nbformat_minor": 0,
  "metadata": {
    "colab": {
      "name": "QuizDNN.ipynb",
      "provenance": [],
      "mount_file_id": "1glfwNmWOwaIWDKsyi87gsB4xb3jJbRai",
      "authorship_tag": "ABX9TyODAsK/7NGH9Eyv6cApQ0Tr",
      "include_colab_link": true
    },
    "kernelspec": {
      "name": "python3",
      "display_name": "Python 3"
    },
    "accelerator": "GPU",
    "widgets": {
      "application/vnd.jupyter.widget-state+json": {
        "25a6344701bc4a7d85bce6298c39fdc5": {
          "model_module": "@jupyter-widgets/controls",
          "model_name": "HBoxModel",
          "state": {
            "_view_name": "HBoxView",
            "_dom_classes": [],
            "_model_name": "HBoxModel",
            "_view_module": "@jupyter-widgets/controls",
            "_model_module_version": "1.5.0",
            "_view_count": null,
            "_view_module_version": "1.5.0",
            "box_style": "",
            "layout": "IPY_MODEL_e32e6f57900b43b68697fd1d5ab6c8f6",
            "_model_module": "@jupyter-widgets/controls",
            "children": [
              "IPY_MODEL_bb78731b4041481aa941c7750c8b35ee",
              "IPY_MODEL_acef02dfc5394a798922394d77b54613"
            ]
          }
        },
        "e32e6f57900b43b68697fd1d5ab6c8f6": {
          "model_module": "@jupyter-widgets/base",
          "model_name": "LayoutModel",
          "state": {
            "_view_name": "LayoutView",
            "grid_template_rows": null,
            "right": null,
            "justify_content": null,
            "_view_module": "@jupyter-widgets/base",
            "overflow": null,
            "_model_module_version": "1.2.0",
            "_view_count": null,
            "flex_flow": null,
            "width": null,
            "min_width": null,
            "border": null,
            "align_items": null,
            "bottom": null,
            "_model_module": "@jupyter-widgets/base",
            "top": null,
            "grid_column": null,
            "overflow_y": null,
            "overflow_x": null,
            "grid_auto_flow": null,
            "grid_area": null,
            "grid_template_columns": null,
            "flex": null,
            "_model_name": "LayoutModel",
            "justify_items": null,
            "grid_row": null,
            "max_height": null,
            "align_content": null,
            "visibility": null,
            "align_self": null,
            "height": null,
            "min_height": null,
            "padding": null,
            "grid_auto_rows": null,
            "grid_gap": null,
            "max_width": null,
            "order": null,
            "_view_module_version": "1.2.0",
            "grid_template_areas": null,
            "object_position": null,
            "object_fit": null,
            "grid_auto_columns": null,
            "margin": null,
            "display": null,
            "left": null
          }
        },
        "bb78731b4041481aa941c7750c8b35ee": {
          "model_module": "@jupyter-widgets/controls",
          "model_name": "IntProgressModel",
          "state": {
            "_view_name": "ProgressView",
            "style": "IPY_MODEL_db759a200ee84f879adeaaf6aaf8c266",
            "_dom_classes": [],
            "description": "",
            "_model_name": "IntProgressModel",
            "bar_style": "info",
            "max": 1,
            "_view_module": "@jupyter-widgets/controls",
            "_model_module_version": "1.5.0",
            "value": 1,
            "_view_count": null,
            "_view_module_version": "1.5.0",
            "orientation": "horizontal",
            "min": 0,
            "description_tooltip": null,
            "_model_module": "@jupyter-widgets/controls",
            "layout": "IPY_MODEL_79648ba773ff4e8dbb245040ca48c80a"
          }
        },
        "acef02dfc5394a798922394d77b54613": {
          "model_module": "@jupyter-widgets/controls",
          "model_name": "HTMLModel",
          "state": {
            "_view_name": "HTMLView",
            "style": "IPY_MODEL_5e0317f2205e4a73a986d8a7e8c0cb29",
            "_dom_classes": [],
            "description": "",
            "_model_name": "HTMLModel",
            "placeholder": "​",
            "_view_module": "@jupyter-widgets/controls",
            "_model_module_version": "1.5.0",
            "value": "170500096it [00:30, 16482313.67it/s]",
            "_view_count": null,
            "_view_module_version": "1.5.0",
            "description_tooltip": null,
            "_model_module": "@jupyter-widgets/controls",
            "layout": "IPY_MODEL_26f0766b117a4b109a9da9422982acf4"
          }
        },
        "db759a200ee84f879adeaaf6aaf8c266": {
          "model_module": "@jupyter-widgets/controls",
          "model_name": "ProgressStyleModel",
          "state": {
            "_view_name": "StyleView",
            "_model_name": "ProgressStyleModel",
            "description_width": "",
            "_view_module": "@jupyter-widgets/base",
            "_model_module_version": "1.5.0",
            "_view_count": null,
            "_view_module_version": "1.2.0",
            "bar_color": null,
            "_model_module": "@jupyter-widgets/controls"
          }
        },
        "79648ba773ff4e8dbb245040ca48c80a": {
          "model_module": "@jupyter-widgets/base",
          "model_name": "LayoutModel",
          "state": {
            "_view_name": "LayoutView",
            "grid_template_rows": null,
            "right": null,
            "justify_content": null,
            "_view_module": "@jupyter-widgets/base",
            "overflow": null,
            "_model_module_version": "1.2.0",
            "_view_count": null,
            "flex_flow": null,
            "width": null,
            "min_width": null,
            "border": null,
            "align_items": null,
            "bottom": null,
            "_model_module": "@jupyter-widgets/base",
            "top": null,
            "grid_column": null,
            "overflow_y": null,
            "overflow_x": null,
            "grid_auto_flow": null,
            "grid_area": null,
            "grid_template_columns": null,
            "flex": null,
            "_model_name": "LayoutModel",
            "justify_items": null,
            "grid_row": null,
            "max_height": null,
            "align_content": null,
            "visibility": null,
            "align_self": null,
            "height": null,
            "min_height": null,
            "padding": null,
            "grid_auto_rows": null,
            "grid_gap": null,
            "max_width": null,
            "order": null,
            "_view_module_version": "1.2.0",
            "grid_template_areas": null,
            "object_position": null,
            "object_fit": null,
            "grid_auto_columns": null,
            "margin": null,
            "display": null,
            "left": null
          }
        },
        "5e0317f2205e4a73a986d8a7e8c0cb29": {
          "model_module": "@jupyter-widgets/controls",
          "model_name": "DescriptionStyleModel",
          "state": {
            "_view_name": "StyleView",
            "_model_name": "DescriptionStyleModel",
            "description_width": "",
            "_view_module": "@jupyter-widgets/base",
            "_model_module_version": "1.5.0",
            "_view_count": null,
            "_view_module_version": "1.2.0",
            "_model_module": "@jupyter-widgets/controls"
          }
        },
        "26f0766b117a4b109a9da9422982acf4": {
          "model_module": "@jupyter-widgets/base",
          "model_name": "LayoutModel",
          "state": {
            "_view_name": "LayoutView",
            "grid_template_rows": null,
            "right": null,
            "justify_content": null,
            "_view_module": "@jupyter-widgets/base",
            "overflow": null,
            "_model_module_version": "1.2.0",
            "_view_count": null,
            "flex_flow": null,
            "width": null,
            "min_width": null,
            "border": null,
            "align_items": null,
            "bottom": null,
            "_model_module": "@jupyter-widgets/base",
            "top": null,
            "grid_column": null,
            "overflow_y": null,
            "overflow_x": null,
            "grid_auto_flow": null,
            "grid_area": null,
            "grid_template_columns": null,
            "flex": null,
            "_model_name": "LayoutModel",
            "justify_items": null,
            "grid_row": null,
            "max_height": null,
            "align_content": null,
            "visibility": null,
            "align_self": null,
            "height": null,
            "min_height": null,
            "padding": null,
            "grid_auto_rows": null,
            "grid_gap": null,
            "max_width": null,
            "order": null,
            "_view_module_version": "1.2.0",
            "grid_template_areas": null,
            "object_position": null,
            "object_fit": null,
            "grid_auto_columns": null,
            "margin": null,
            "display": null,
            "left": null
          }
        }
      }
    }
  },
  "cells": [
    {
      "cell_type": "markdown",
      "metadata": {
        "id": "view-in-github",
        "colab_type": "text"
      },
      "source": [
        "<a href=\"https://colab.research.google.com/github/divyanshbajpai/EVA4-Coursework/blob/master/Assignment-9/QuizDNN.ipynb\" target=\"_parent\"><img src=\"https://colab.research.google.com/assets/colab-badge.svg\" alt=\"Open In Colab\"/></a>"
      ]
    },
    {
      "cell_type": "code",
      "metadata": {
        "id": "CGiii1X2kEiU",
        "colab_type": "code",
        "colab": {
          "base_uri": "https://localhost:8080/",
          "height": 34
        },
        "outputId": "a1437f67-5d01-4dad-fcda-9c086653fcf3"
      },
      "source": [
        "import datetime\n",
        "x = datetime.datetime.now()\n",
        "print(x)"
      ],
      "execution_count": 1,
      "outputs": [
        {
          "output_type": "stream",
          "text": [
            "2020-03-17 17:46:27.969898\n"
          ],
          "name": "stdout"
        }
      ]
    },
    {
      "cell_type": "code",
      "metadata": {
        "id": "CMiAJiPDl6QS",
        "colab_type": "code",
        "colab": {
          "base_uri": "https://localhost:8080/",
          "height": 34
        },
        "outputId": "4f122ebf-8315-441f-b39e-aa31fe6c2ac6"
      },
      "source": [
        "cd drive/My\\ Drive/Assignment-8"
      ],
      "execution_count": 4,
      "outputs": [
        {
          "output_type": "stream",
          "text": [
            "/content/drive/My Drive/Assignment-8\n"
          ],
          "name": "stdout"
        }
      ]
    },
    {
      "cell_type": "code",
      "metadata": {
        "id": "CLdbvqRFm2Oi",
        "colab_type": "code",
        "colab": {
          "base_uri": "https://localhost:8080/",
          "height": 52
        },
        "outputId": "1bd45b57-1a5f-44c4-fec7-6b5998116e8f"
      },
      "source": [
        "!ls"
      ],
      "execution_count": 5,
      "outputs": [
        {
          "output_type": "stream",
          "text": [
            "data_util.py  model_function.py  network_blocks.py  QuizDNN.py\tresnet.py\n",
            "Main.ipynb    model.py\t\t plots.py\t    Readme.md\ts8.png\n"
          ],
          "name": "stdout"
        }
      ]
    },
    {
      "cell_type": "code",
      "metadata": {
        "id": "ud_MvC-rmzoq",
        "colab_type": "code",
        "colab": {
          "base_uri": "https://localhost:8080/",
          "height": 34
        },
        "outputId": "8b1b24f2-f78b-437a-ab39-936b493d2075"
      },
      "source": [
        "import torch\n",
        "import data_util as du\n",
        "import model_function as mf\n",
        "import model as mod\n",
        "import plots as pp\n",
        "import resnet as res\n",
        "import QuizDNN as qd"
      ],
      "execution_count": 6,
      "outputs": [
        {
          "output_type": "stream",
          "text": [
            "torch.Size([1, 10])\n"
          ],
          "name": "stdout"
        }
      ]
    },
    {
      "cell_type": "code",
      "metadata": {
        "id": "Sw3fg1t5m-an",
        "colab_type": "code",
        "colab": {
          "base_uri": "https://localhost:8080/",
          "height": 137,
          "referenced_widgets": [
            "25a6344701bc4a7d85bce6298c39fdc5",
            "e32e6f57900b43b68697fd1d5ab6c8f6",
            "bb78731b4041481aa941c7750c8b35ee",
            "acef02dfc5394a798922394d77b54613",
            "db759a200ee84f879adeaaf6aaf8c266",
            "79648ba773ff4e8dbb245040ca48c80a",
            "5e0317f2205e4a73a986d8a7e8c0cb29",
            "26f0766b117a4b109a9da9422982acf4"
          ]
        },
        "outputId": "d3ca0652-a379-4c6e-9664-f82c556f1531"
      },
      "source": [
        "device = du.cuda_check()\n",
        "classes = ('plane', 'car', 'bird', 'cat', 'deer', 'dog', 'frog', 'horse', 'ship', 'truck')\n",
        "\n",
        "SEED = 1\n",
        "batch_size=128\n",
        "torch.manual_seed(SEED)\n",
        "train_transform = du.get_transform(hflip=True)\n",
        "test_transform=du.get_transform(hflip=False)\n",
        "train_loader, test_loader = du.get_dataloader(train_transform,test_transform,batch_size=batch_size)"
      ],
      "execution_count": 7,
      "outputs": [
        {
          "output_type": "stream",
          "text": [
            "CUDA: True\n",
            "cuda:0\n",
            "Downloading https://www.cs.toronto.edu/~kriz/cifar-10-python.tar.gz to ./data/cifar-10-python.tar.gz\n"
          ],
          "name": "stdout"
        },
        {
          "output_type": "display_data",
          "data": {
            "application/vnd.jupyter.widget-view+json": {
              "model_id": "25a6344701bc4a7d85bce6298c39fdc5",
              "version_minor": 0,
              "version_major": 2
            },
            "text/plain": [
              "HBox(children=(IntProgress(value=1, bar_style='info', max=1), HTML(value='')))"
            ]
          },
          "metadata": {
            "tags": []
          }
        },
        {
          "output_type": "stream",
          "text": [
            "Extracting ./data/cifar-10-python.tar.gz to ./data\n",
            "Files already downloaded and verified\n"
          ],
          "name": "stdout"
        }
      ]
    },
    {
      "cell_type": "code",
      "metadata": {
        "id": "PaiuaNFdnRpW",
        "colab_type": "code",
        "colab": {}
      },
      "source": [
        "mymodel = qd.Net()"
      ],
      "execution_count": 0,
      "outputs": []
    },
    {
      "cell_type": "code",
      "metadata": {
        "id": "mP32WntynjL8",
        "colab_type": "code",
        "colab": {
          "base_uri": "https://localhost:8080/",
          "height": 1000
        },
        "outputId": "18369ed6-a082-4151-fbc4-cc438dfa0dc1"
      },
      "source": [
        "mf.model_summary(mymodel, device, input_size=(3, 32, 32))"
      ],
      "execution_count": 9,
      "outputs": [
        {
          "output_type": "stream",
          "text": [
            "----------------------------------------------------------------\n",
            "        Layer (type)               Output Shape         Param #\n",
            "================================================================\n",
            "            Conv2d-1           [-1, 32, 32, 32]             896\n",
            "              ReLU-2           [-1, 32, 32, 32]               0\n",
            "       BatchNorm2d-3           [-1, 32, 32, 32]              64\n",
            "           Dropout-4           [-1, 32, 32, 32]               0\n",
            "            Conv2d-5           [-1, 32, 32, 32]           9,248\n",
            "              ReLU-6           [-1, 32, 32, 32]               0\n",
            "       BatchNorm2d-7           [-1, 32, 32, 32]              64\n",
            "           Dropout-8           [-1, 32, 32, 32]               0\n",
            "            Conv2d-9           [-1, 32, 32, 32]           9,248\n",
            "             ReLU-10           [-1, 32, 32, 32]               0\n",
            "      BatchNorm2d-11           [-1, 32, 32, 32]              64\n",
            "          Dropout-12           [-1, 32, 32, 32]               0\n",
            "        MaxPool2d-13           [-1, 32, 16, 16]               0\n",
            "           Conv2d-14           [-1, 64, 16, 16]          18,496\n",
            "             ReLU-15           [-1, 64, 16, 16]               0\n",
            "      BatchNorm2d-16           [-1, 64, 16, 16]             128\n",
            "          Dropout-17           [-1, 64, 16, 16]               0\n",
            "           Conv2d-18           [-1, 64, 16, 16]           2,112\n",
            "             ReLU-19           [-1, 64, 16, 16]               0\n",
            "      BatchNorm2d-20           [-1, 64, 16, 16]             128\n",
            "          Dropout-21           [-1, 64, 16, 16]               0\n",
            "           Conv2d-22           [-1, 64, 16, 16]          36,928\n",
            "             ReLU-23           [-1, 64, 16, 16]               0\n",
            "      BatchNorm2d-24           [-1, 64, 16, 16]             128\n",
            "          Dropout-25           [-1, 64, 16, 16]               0\n",
            "           Conv2d-26           [-1, 64, 16, 16]          36,928\n",
            "             ReLU-27           [-1, 64, 16, 16]               0\n",
            "      BatchNorm2d-28           [-1, 64, 16, 16]             128\n",
            "          Dropout-29           [-1, 64, 16, 16]               0\n",
            "        MaxPool2d-30             [-1, 64, 8, 8]               0\n",
            "           Conv2d-31            [-1, 128, 8, 8]           8,320\n",
            "             ReLU-32            [-1, 128, 8, 8]               0\n",
            "      BatchNorm2d-33            [-1, 128, 8, 8]             256\n",
            "          Dropout-34            [-1, 128, 8, 8]               0\n",
            "           Conv2d-35            [-1, 128, 8, 8]          73,856\n",
            "             ReLU-36            [-1, 128, 8, 8]               0\n",
            "      BatchNorm2d-37            [-1, 128, 8, 8]             256\n",
            "          Dropout-38            [-1, 128, 8, 8]               0\n",
            "           Conv2d-39            [-1, 128, 8, 8]         147,584\n",
            "             ReLU-40            [-1, 128, 8, 8]               0\n",
            "      BatchNorm2d-41            [-1, 128, 8, 8]             256\n",
            "          Dropout-42            [-1, 128, 8, 8]               0\n",
            "           Conv2d-43            [-1, 128, 8, 8]         147,584\n",
            "             ReLU-44            [-1, 128, 8, 8]               0\n",
            "      BatchNorm2d-45            [-1, 128, 8, 8]             256\n",
            "          Dropout-46            [-1, 128, 8, 8]               0\n",
            "           Conv2d-47             [-1, 10, 1, 1]           1,280\n",
            "================================================================\n",
            "Total params: 494,208\n",
            "Trainable params: 494,208\n",
            "Non-trainable params: 0\n",
            "----------------------------------------------------------------\n",
            "Input size (MB): 0.01\n",
            "Forward/backward pass size (MB): 6.09\n",
            "Params size (MB): 1.89\n",
            "Estimated Total Size (MB): 7.99\n",
            "----------------------------------------------------------------\n"
          ],
          "name": "stdout"
        }
      ]
    },
    {
      "cell_type": "code",
      "metadata": {
        "id": "MJ8GDxeAnvlQ",
        "colab_type": "code",
        "colab": {
          "base_uri": "https://localhost:8080/",
          "height": 1000
        },
        "outputId": "925e88aa-e4ff-46ed-9b34-03071a4c4649"
      },
      "source": [
        "EPOCHS = 25\n",
        "mymodel =  mymodel.to(device)\n",
        "\n",
        "train_acc, train_losses, test_acc, test_losses = mf.definemodel(mymodel, device,trainloader=train_loader, testloader=test_loader,epochs=EPOCHS,\n",
        "                                                            lr=0.01,\n",
        "                                                            decay=0.005)"
      ],
      "execution_count": 10,
      "outputs": [
        {
          "output_type": "stream",
          "text": [
            "\r  0%|          | 0/391 [00:00<?, ?it/s]"
          ],
          "name": "stderr"
        },
        {
          "output_type": "stream",
          "text": [
            "EPOCH: 0\n"
          ],
          "name": "stdout"
        },
        {
          "output_type": "stream",
          "text": [
            "Loss=1.309381 Batch_id=390 Accuracy=52.37: 100%|██████████| 391/391 [00:26<00:00, 15.73it/s]\n",
            "  0%|          | 0/391 [00:00<?, ?it/s]"
          ],
          "name": "stderr"
        },
        {
          "output_type": "stream",
          "text": [
            "\n",
            "Test set: Average loss: 1.039305, Accuracy: 6242/10000 (62.42%)\n",
            "\n",
            "EPOCH: 1\n"
          ],
          "name": "stdout"
        },
        {
          "output_type": "stream",
          "text": [
            "Loss=0.889446 Batch_id=390 Accuracy=68.58: 100%|██████████| 391/391 [00:26<00:00, 15.92it/s]\n",
            "  0%|          | 0/391 [00:00<?, ?it/s]"
          ],
          "name": "stderr"
        },
        {
          "output_type": "stream",
          "text": [
            "\n",
            "Test set: Average loss: 0.828953, Accuracy: 7076/10000 (70.76%)\n",
            "\n",
            "EPOCH: 2\n"
          ],
          "name": "stdout"
        },
        {
          "output_type": "stream",
          "text": [
            "Loss=0.715915 Batch_id=390 Accuracy=75.27: 100%|██████████| 391/391 [00:26<00:00, 16.00it/s]\n",
            "  0%|          | 0/391 [00:00<?, ?it/s]"
          ],
          "name": "stderr"
        },
        {
          "output_type": "stream",
          "text": [
            "\n",
            "Test set: Average loss: 0.759375, Accuracy: 7386/10000 (73.86%)\n",
            "\n",
            "EPOCH: 3\n"
          ],
          "name": "stdout"
        },
        {
          "output_type": "stream",
          "text": [
            "Loss=0.619025 Batch_id=390 Accuracy=78.87: 100%|██████████| 391/391 [00:26<00:00, 15.79it/s]\n",
            "  0%|          | 0/391 [00:00<?, ?it/s]"
          ],
          "name": "stderr"
        },
        {
          "output_type": "stream",
          "text": [
            "\n",
            "Test set: Average loss: 0.647684, Accuracy: 7764/10000 (77.64%)\n",
            "\n",
            "EPOCH: 4\n"
          ],
          "name": "stdout"
        },
        {
          "output_type": "stream",
          "text": [
            "Loss=0.560109 Batch_id=390 Accuracy=81.08: 100%|██████████| 391/391 [00:26<00:00, 15.87it/s]\n",
            "  0%|          | 0/391 [00:00<?, ?it/s]"
          ],
          "name": "stderr"
        },
        {
          "output_type": "stream",
          "text": [
            "\n",
            "Test set: Average loss: 0.631666, Accuracy: 7829/10000 (78.29%)\n",
            "\n",
            "EPOCH: 5\n"
          ],
          "name": "stdout"
        },
        {
          "output_type": "stream",
          "text": [
            "Loss=0.520408 Batch_id=390 Accuracy=82.62: 100%|██████████| 391/391 [00:25<00:00, 15.84it/s]\n",
            "  0%|          | 0/391 [00:00<?, ?it/s]"
          ],
          "name": "stderr"
        },
        {
          "output_type": "stream",
          "text": [
            "\n",
            "Test set: Average loss: 0.581238, Accuracy: 8003/10000 (80.03%)\n",
            "\n",
            "EPOCH: 6\n"
          ],
          "name": "stdout"
        },
        {
          "output_type": "stream",
          "text": [
            "Loss=0.491105 Batch_id=390 Accuracy=83.69: 100%|██████████| 391/391 [00:26<00:00, 14.78it/s]\n",
            "  0%|          | 0/391 [00:00<?, ?it/s]"
          ],
          "name": "stderr"
        },
        {
          "output_type": "stream",
          "text": [
            "\n",
            "Test set: Average loss: 0.514231, Accuracy: 8251/10000 (82.51%)\n",
            "\n",
            "EPOCH: 7\n"
          ],
          "name": "stdout"
        },
        {
          "output_type": "stream",
          "text": [
            "Loss=0.467551 Batch_id=390 Accuracy=84.62: 100%|██████████| 391/391 [00:26<00:00, 14.97it/s]\n",
            "  0%|          | 0/391 [00:00<?, ?it/s]"
          ],
          "name": "stderr"
        },
        {
          "output_type": "stream",
          "text": [
            "\n",
            "Test set: Average loss: 0.521669, Accuracy: 8259/10000 (82.59%)\n",
            "\n",
            "EPOCH: 8\n"
          ],
          "name": "stdout"
        },
        {
          "output_type": "stream",
          "text": [
            "Loss=0.348139 Batch_id=390 Accuracy=89.10: 100%|██████████| 391/391 [00:26<00:00, 15.73it/s]\n",
            "  0%|          | 0/391 [00:00<?, ?it/s]"
          ],
          "name": "stderr"
        },
        {
          "output_type": "stream",
          "text": [
            "\n",
            "Test set: Average loss: 0.378475, Accuracy: 8746/10000 (87.46%)\n",
            "\n",
            "EPOCH: 9\n"
          ],
          "name": "stdout"
        },
        {
          "output_type": "stream",
          "text": [
            "Loss=0.302974 Batch_id=390 Accuracy=90.73: 100%|██████████| 391/391 [00:26<00:00, 14.86it/s]\n",
            "  0%|          | 0/391 [00:00<?, ?it/s]"
          ],
          "name": "stderr"
        },
        {
          "output_type": "stream",
          "text": [
            "\n",
            "Test set: Average loss: 0.367536, Accuracy: 8782/10000 (87.82%)\n",
            "\n",
            "EPOCH: 10\n"
          ],
          "name": "stdout"
        },
        {
          "output_type": "stream",
          "text": [
            "Loss=0.285950 Batch_id=390 Accuracy=91.30: 100%|██████████| 391/391 [00:26<00:00, 15.73it/s]\n",
            "  0%|          | 0/391 [00:00<?, ?it/s]"
          ],
          "name": "stderr"
        },
        {
          "output_type": "stream",
          "text": [
            "\n",
            "Test set: Average loss: 0.358652, Accuracy: 8827/10000 (88.27%)\n",
            "\n",
            "EPOCH: 11\n"
          ],
          "name": "stdout"
        },
        {
          "output_type": "stream",
          "text": [
            "Loss=0.270100 Batch_id=390 Accuracy=91.85: 100%|██████████| 391/391 [00:26<00:00, 15.67it/s]\n",
            "  0%|          | 0/391 [00:00<?, ?it/s]"
          ],
          "name": "stderr"
        },
        {
          "output_type": "stream",
          "text": [
            "\n",
            "Test set: Average loss: 0.348983, Accuracy: 8847/10000 (88.47%)\n",
            "\n",
            "EPOCH: 12\n"
          ],
          "name": "stdout"
        },
        {
          "output_type": "stream",
          "text": [
            "Loss=0.255862 Batch_id=390 Accuracy=92.30: 100%|██████████| 391/391 [00:26<00:00, 15.92it/s]\n",
            "  0%|          | 0/391 [00:00<?, ?it/s]"
          ],
          "name": "stderr"
        },
        {
          "output_type": "stream",
          "text": [
            "\n",
            "Test set: Average loss: 0.342710, Accuracy: 8891/10000 (88.91%)\n",
            "\n",
            "EPOCH: 13\n"
          ],
          "name": "stdout"
        },
        {
          "output_type": "stream",
          "text": [
            "Loss=0.244089 Batch_id=390 Accuracy=92.69: 100%|██████████| 391/391 [00:26<00:00, 16.23it/s]\n",
            "  0%|          | 0/391 [00:00<?, ?it/s]"
          ],
          "name": "stderr"
        },
        {
          "output_type": "stream",
          "text": [
            "\n",
            "Test set: Average loss: 0.339911, Accuracy: 8867/10000 (88.67%)\n",
            "\n",
            "EPOCH: 14\n"
          ],
          "name": "stdout"
        },
        {
          "output_type": "stream",
          "text": [
            "Loss=0.235189 Batch_id=390 Accuracy=93.05: 100%|██████████| 391/391 [00:26<00:00, 15.99it/s]\n",
            "  0%|          | 0/391 [00:00<?, ?it/s]"
          ],
          "name": "stderr"
        },
        {
          "output_type": "stream",
          "text": [
            "\n",
            "Test set: Average loss: 0.342312, Accuracy: 8892/10000 (88.92%)\n",
            "\n",
            "EPOCH: 15\n"
          ],
          "name": "stdout"
        },
        {
          "output_type": "stream",
          "text": [
            "Loss=0.223092 Batch_id=390 Accuracy=93.41: 100%|██████████| 391/391 [00:26<00:00, 15.41it/s]\n",
            "  0%|          | 0/391 [00:00<?, ?it/s]"
          ],
          "name": "stderr"
        },
        {
          "output_type": "stream",
          "text": [
            "\n",
            "Test set: Average loss: 0.345940, Accuracy: 8873/10000 (88.73%)\n",
            "\n",
            "EPOCH: 16\n"
          ],
          "name": "stdout"
        },
        {
          "output_type": "stream",
          "text": [
            "Loss=0.202532 Batch_id=390 Accuracy=94.36: 100%|██████████| 391/391 [00:26<00:00, 16.01it/s]\n",
            "  0%|          | 0/391 [00:00<?, ?it/s]"
          ],
          "name": "stderr"
        },
        {
          "output_type": "stream",
          "text": [
            "\n",
            "Test set: Average loss: 0.329710, Accuracy: 8904/10000 (89.04%)\n",
            "\n",
            "EPOCH: 17\n"
          ],
          "name": "stdout"
        },
        {
          "output_type": "stream",
          "text": [
            "Loss=0.196288 Batch_id=390 Accuracy=94.65: 100%|██████████| 391/391 [00:26<00:00, 16.13it/s]\n",
            "  0%|          | 0/391 [00:00<?, ?it/s]"
          ],
          "name": "stderr"
        },
        {
          "output_type": "stream",
          "text": [
            "\n",
            "Test set: Average loss: 0.336320, Accuracy: 8916/10000 (89.16%)\n",
            "\n",
            "EPOCH: 18\n"
          ],
          "name": "stdout"
        },
        {
          "output_type": "stream",
          "text": [
            "Loss=0.193298 Batch_id=390 Accuracy=94.70: 100%|██████████| 391/391 [00:26<00:00, 15.86it/s]\n",
            "  0%|          | 0/391 [00:00<?, ?it/s]"
          ],
          "name": "stderr"
        },
        {
          "output_type": "stream",
          "text": [
            "\n",
            "Test set: Average loss: 0.326492, Accuracy: 8928/10000 (89.28%)\n",
            "\n",
            "EPOCH: 19\n"
          ],
          "name": "stdout"
        },
        {
          "output_type": "stream",
          "text": [
            "Loss=0.191122 Batch_id=390 Accuracy=94.80: 100%|██████████| 391/391 [00:26<00:00, 15.90it/s]\n",
            "  0%|          | 0/391 [00:00<?, ?it/s]"
          ],
          "name": "stderr"
        },
        {
          "output_type": "stream",
          "text": [
            "\n",
            "Test set: Average loss: 0.328343, Accuracy: 8943/10000 (89.43%)\n",
            "\n",
            "EPOCH: 20\n"
          ],
          "name": "stdout"
        },
        {
          "output_type": "stream",
          "text": [
            "Loss=0.190488 Batch_id=390 Accuracy=94.69: 100%|██████████| 391/391 [00:26<00:00, 16.19it/s]\n",
            "  0%|          | 0/391 [00:00<?, ?it/s]"
          ],
          "name": "stderr"
        },
        {
          "output_type": "stream",
          "text": [
            "\n",
            "Test set: Average loss: 0.328852, Accuracy: 8916/10000 (89.16%)\n",
            "\n",
            "EPOCH: 21\n"
          ],
          "name": "stdout"
        },
        {
          "output_type": "stream",
          "text": [
            "Loss=0.187342 Batch_id=390 Accuracy=94.91: 100%|██████████| 391/391 [00:25<00:00, 15.83it/s]\n",
            "  0%|          | 0/391 [00:00<?, ?it/s]"
          ],
          "name": "stderr"
        },
        {
          "output_type": "stream",
          "text": [
            "\n",
            "Test set: Average loss: 0.329911, Accuracy: 8932/10000 (89.32%)\n",
            "\n",
            "EPOCH: 22\n"
          ],
          "name": "stdout"
        },
        {
          "output_type": "stream",
          "text": [
            "Loss=0.185585 Batch_id=390 Accuracy=94.94: 100%|██████████| 391/391 [00:26<00:00, 15.64it/s]\n",
            "  0%|          | 0/391 [00:00<?, ?it/s]"
          ],
          "name": "stderr"
        },
        {
          "output_type": "stream",
          "text": [
            "\n",
            "Test set: Average loss: 0.323709, Accuracy: 8939/10000 (89.39%)\n",
            "\n",
            "EPOCH: 23\n"
          ],
          "name": "stdout"
        },
        {
          "output_type": "stream",
          "text": [
            "Loss=0.183309 Batch_id=390 Accuracy=95.12: 100%|██████████| 391/391 [00:26<00:00, 15.73it/s]\n",
            "  0%|          | 0/391 [00:00<?, ?it/s]"
          ],
          "name": "stderr"
        },
        {
          "output_type": "stream",
          "text": [
            "\n",
            "Test set: Average loss: 0.327391, Accuracy: 8917/10000 (89.17%)\n",
            "\n",
            "EPOCH: 24\n"
          ],
          "name": "stdout"
        },
        {
          "output_type": "stream",
          "text": [
            "Loss=0.181867 Batch_id=390 Accuracy=95.17: 100%|██████████| 391/391 [00:26<00:00, 16.02it/s]\n"
          ],
          "name": "stderr"
        },
        {
          "output_type": "stream",
          "text": [
            "\n",
            "Test set: Average loss: 0.321874, Accuracy: 8928/10000 (89.28%)\n",
            "\n"
          ],
          "name": "stdout"
        }
      ]
    },
    {
      "cell_type": "code",
      "metadata": {
        "id": "evaTco5_o_6w",
        "colab_type": "code",
        "colab": {
          "base_uri": "https://localhost:8080/",
          "height": 34
        },
        "outputId": "29889588-8367-4987-c5d5-58968809a77f"
      },
      "source": [
        "mf.get_test_accuracy_cifar10(mymodel, device, test_loader)"
      ],
      "execution_count": 11,
      "outputs": [
        {
          "output_type": "stream",
          "text": [
            "Accuracy of the network on the 10000 test images: 89.23 %\n"
          ],
          "name": "stdout"
        }
      ]
    },
    {
      "cell_type": "code",
      "metadata": {
        "id": "l0qy_3SqpAsT",
        "colab_type": "code",
        "colab": {
          "base_uri": "https://localhost:8080/",
          "height": 193
        },
        "outputId": "f09fe65b-1965-4865-cd8e-918ccea39b40"
      },
      "source": [
        "mf.class_accuracy(mymodel, device, classes, test_loader)"
      ],
      "execution_count": 12,
      "outputs": [
        {
          "output_type": "stream",
          "text": [
            "Accuracy of plane : 90 %\n",
            "Accuracy of   car : 94 %\n",
            "Accuracy of  bird : 87 %\n",
            "Accuracy of   cat : 88 %\n",
            "Accuracy of  deer : 88 %\n",
            "Accuracy of   dog : 87 %\n",
            "Accuracy of  frog : 100 %\n",
            "Accuracy of horse : 86 %\n",
            "Accuracy of  ship : 94 %\n",
            "Accuracy of truck : 86 %\n"
          ],
          "name": "stdout"
        }
      ]
    },
    {
      "cell_type": "code",
      "metadata": {
        "id": "xUHNvZM0pFus",
        "colab_type": "code",
        "colab": {
          "base_uri": "https://localhost:8080/",
          "height": 478
        },
        "outputId": "42f980c6-2afc-408c-9a9d-6cfde3c50e66"
      },
      "source": [
        "pp.model_acc_loss(train_acc,test_acc,train_losses,test_losses)"
      ],
      "execution_count": 13,
      "outputs": [
        {
          "output_type": "stream",
          "text": [
            "/content/drive/My Drive/Assignment-8/plots.py:22: MatplotlibDeprecationWarning: Passing the minor parameter of set_xticks() positionally is deprecated since Matplotlib 3.2; the parameter will become keyword-only two minor releases later.\n",
            "  axs[0].set_xticks(np.arange(1,size_ep+1),size_ep/10)\n",
            "/content/drive/My Drive/Assignment-8/plots.py:30: MatplotlibDeprecationWarning: Passing the minor parameter of set_xticks() positionally is deprecated since Matplotlib 3.2; the parameter will become keyword-only two minor releases later.\n",
            "  axs[1].set_xticks(np.arange(1,size_ep+1),size_ep/10)\n"
          ],
          "name": "stderr"
        },
        {
          "output_type": "display_data",
          "data": {
            "image/png": "[encoded data removed]",
            "text/plain": [
              "<Figure size 1800x432 with 2 Axes>"
            ]
          },
          "metadata": {
            "tags": []
          }
        }
      ]
    }
  ]
}