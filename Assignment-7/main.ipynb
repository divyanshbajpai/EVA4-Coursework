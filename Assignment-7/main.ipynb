{
  "nbformat": 4,
  "nbformat_minor": 0,
  "metadata": {
    "colab": {
      "name": "main.ipynb",
      "provenance": [],
      "mount_file_id": "1UmzX73AjaRzQcxFg6a6HpOM_WTJJZBbH",
      "authorship_tag": "ABX9TyO8F3VbTHYi4qLrAkJuqFYQ",
      "include_colab_link": true
    },
    "kernelspec": {
      "name": "python3",
      "display_name": "Python 3"
    },
    "accelerator": "GPU"
  },
  "cells": [
    {
      "cell_type": "markdown",
      "metadata": {
        "id": "view-in-github",
        "colab_type": "text"
      },
      "source": [
        "<a href=\"https://colab.research.google.com/github/divyanshbajpai/EVA4-Coursework/blob/master/Assignment-7/main.ipynb\" target=\"_parent\"><img src=\"https://colab.research.google.com/assets/colab-badge.svg\" alt=\"Open In Colab\"/></a>"
      ]
    },
    {
      "cell_type": "code",
      "metadata": {
        "id": "T_8m_LVHwdPL",
        "colab_type": "code",
        "outputId": "c7563f27-379e-419b-e1a8-c51fe4605cd5",
        "colab": {
          "base_uri": "https://localhost:8080/",
          "height": 34
        }
      },
      "source": [
        "cd drive/My\\ Drive/Session7"
      ],
      "execution_count": 1,
      "outputs": [
        {
          "output_type": "stream",
          "text": [
            "/content/drive/My Drive/Session7\n"
          ],
          "name": "stdout"
        }
      ]
    },
    {
      "cell_type": "code",
      "metadata": {
        "id": "vHtBmr4QxDNo",
        "colab_type": "code",
        "outputId": "1a4437ce-4734-4679-91fb-be5711eed894",
        "colab": {
          "base_uri": "https://localhost:8080/",
          "height": 70
        }
      },
      "source": [
        "!pwd\n",
        "!ls"
      ],
      "execution_count": 2,
      "outputs": [
        {
          "output_type": "stream",
          "text": [
            "/content/drive/My Drive/Session7\n",
            "data\t      model_function.py  network_blocks.py  __pycache__\n",
            "data_util.py  model.py\t\t plots.py\n"
          ],
          "name": "stdout"
        }
      ]
    },
    {
      "cell_type": "code",
      "metadata": {
        "id": "HryaK1ooKrXk",
        "colab_type": "code",
        "colab": {}
      },
      "source": [
        "import torch\n",
        "import data_util as du\n",
        "import model_function as mf\n",
        "import model as mod\n",
        "import plots as pp"
      ],
      "execution_count": 0,
      "outputs": []
    },
    {
      "cell_type": "code",
      "metadata": {
        "id": "R78npxmtMAR1",
        "colab_type": "code",
        "colab": {
          "base_uri": "https://localhost:8080/",
          "height": 52
        },
        "outputId": "9601ad8a-1eb5-403c-a38b-cf1e34b5603a"
      },
      "source": [
        "device = du.cuda_check()"
      ],
      "execution_count": 4,
      "outputs": [
        {
          "output_type": "stream",
          "text": [
            "CUDA: True\n",
            "cuda:0\n"
          ],
          "name": "stdout"
        }
      ]
    },
    {
      "cell_type": "code",
      "metadata": {
        "id": "7pveUNN7MWdl",
        "colab_type": "code",
        "colab": {
          "base_uri": "https://localhost:8080/",
          "height": 52
        },
        "outputId": "1cf4036c-5d99-4f63-be37-8f1d15eeff27"
      },
      "source": [
        "classes = ('plane', 'car', 'bird', 'cat', 'deer', 'dog', 'frog', 'horse', 'ship', 'truck')\n",
        "\n",
        "SEED = 1\n",
        "batch_size=128\n",
        "torch.manual_seed(SEED)\n",
        "transform = du.get_transform()\n",
        "train_loader, test_loader = du.get_dataloader(transform,batch_size=batch_size)\n"
      ],
      "execution_count": 5,
      "outputs": [
        {
          "output_type": "stream",
          "text": [
            "Files already downloaded and verified\n",
            "Files already downloaded and verified\n"
          ],
          "name": "stdout"
        }
      ]
    },
    {
      "cell_type": "code",
      "metadata": {
        "id": "mMjRyI_IOUjW",
        "colab_type": "code",
        "colab": {}
      },
      "source": [
        "mymodel=mod.Net(drop_val=0.1)"
      ],
      "execution_count": 0,
      "outputs": []
    },
    {
      "cell_type": "code",
      "metadata": {
        "id": "RBQzbNf-z6Jj",
        "colab_type": "code",
        "colab": {
          "base_uri": "https://localhost:8080/",
          "height": 1000
        },
        "outputId": "be383687-5c3a-40ba-8007-628c571d3c6b"
      },
      "source": [
        "mf.model_summary(mymodel, device, input_size=(3, 32, 32))"
      ],
      "execution_count": 7,
      "outputs": [
        {
          "output_type": "stream",
          "text": [
            "----------------------------------------------------------------\n",
            "        Layer (type)               Output Shape         Param #\n",
            "================================================================\n",
            "            Conv2d-1           [-1, 16, 32, 32]             432\n",
            "       BatchNorm2d-2           [-1, 16, 32, 32]              32\n",
            "              ReLU-3           [-1, 16, 32, 32]               0\n",
            "           Dropout-4           [-1, 16, 32, 32]               0\n",
            "        Conv2dBnDr-5           [-1, 16, 32, 32]               0\n",
            "            Conv2d-6           [-1, 16, 32, 32]           2,304\n",
            "       BatchNorm2d-7           [-1, 16, 32, 32]              32\n",
            "              ReLU-8           [-1, 16, 32, 32]               0\n",
            "           Dropout-9           [-1, 16, 32, 32]               0\n",
            "       Conv2dBnDr-10           [-1, 16, 32, 32]               0\n",
            "           Conv2d-11           [-1, 16, 32, 32]           2,304\n",
            "      BatchNorm2d-12           [-1, 16, 32, 32]              32\n",
            "             ReLU-13           [-1, 16, 32, 32]               0\n",
            "          Dropout-14           [-1, 16, 32, 32]               0\n",
            "       Conv2dBnDr-15           [-1, 16, 32, 32]               0\n",
            "           Conv2d-16           [-1, 16, 32, 32]             144\n",
            "           Conv2d-17           [-1, 32, 32, 32]             512\n",
            "      BatchNorm2d-18           [-1, 32, 32, 32]              64\n",
            "             ReLU-19           [-1, 32, 32, 32]               0\n",
            "          Dropout-20           [-1, 32, 32, 32]               0\n",
            "       Conv2d_Sep-21           [-1, 32, 32, 32]               0\n",
            "        MaxPool2d-22           [-1, 32, 16, 16]               0\n",
            "           Conv2d-23           [-1, 16, 16, 16]             512\n",
            "      BatchNorm2d-24           [-1, 16, 16, 16]              32\n",
            "         MaxPoint-25           [-1, 16, 16, 16]               0\n",
            "           Conv2d-26           [-1, 32, 16, 16]           4,608\n",
            "      BatchNorm2d-27           [-1, 32, 16, 16]              64\n",
            "             ReLU-28           [-1, 32, 16, 16]               0\n",
            "          Dropout-29           [-1, 32, 16, 16]               0\n",
            "       Conv2dBnDr-30           [-1, 32, 16, 16]               0\n",
            "           Conv2d-31           [-1, 32, 16, 16]           9,216\n",
            "      BatchNorm2d-32           [-1, 32, 16, 16]              64\n",
            "             ReLU-33           [-1, 32, 16, 16]               0\n",
            "          Dropout-34           [-1, 32, 16, 16]               0\n",
            "       Conv2dBnDr-35           [-1, 32, 16, 16]               0\n",
            "           Conv2d-36           [-1, 32, 14, 14]           9,216\n",
            "      BatchNorm2d-37           [-1, 32, 14, 14]              64\n",
            "             ReLU-38           [-1, 32, 14, 14]               0\n",
            "          Dropout-39           [-1, 32, 14, 14]               0\n",
            "       Conv2dBnDr-40           [-1, 32, 14, 14]               0\n",
            "           Conv2d-41           [-1, 32, 14, 14]             288\n",
            "           Conv2d-42           [-1, 32, 14, 14]           1,024\n",
            "      BatchNorm2d-43           [-1, 32, 14, 14]              64\n",
            "             ReLU-44           [-1, 32, 14, 14]               0\n",
            "          Dropout-45           [-1, 32, 14, 14]               0\n",
            "       Conv2d_Sep-46           [-1, 32, 14, 14]               0\n",
            "           Conv2d-47           [-1, 32, 14, 14]           9,216\n",
            "      BatchNorm2d-48           [-1, 32, 14, 14]              64\n",
            "             ReLU-49           [-1, 32, 14, 14]               0\n",
            "          Dropout-50           [-1, 32, 14, 14]               0\n",
            "       Conv2dBnDr-51           [-1, 32, 14, 14]               0\n",
            "           Conv2d-52           [-1, 32, 14, 14]           9,216\n",
            "      BatchNorm2d-53           [-1, 32, 14, 14]              64\n",
            "             ReLU-54           [-1, 32, 14, 14]               0\n",
            "          Dropout-55           [-1, 32, 14, 14]               0\n",
            "       Conv2dBnDr-56           [-1, 32, 14, 14]               0\n",
            "           Conv2d-57           [-1, 32, 14, 14]           9,216\n",
            "      BatchNorm2d-58           [-1, 32, 14, 14]              64\n",
            "             ReLU-59           [-1, 32, 14, 14]               0\n",
            "          Dropout-60           [-1, 32, 14, 14]               0\n",
            "       Conv2dBnDr-61           [-1, 32, 14, 14]               0\n",
            "           Conv2d-62           [-1, 32, 14, 14]             288\n",
            "           Conv2d-63           [-1, 64, 14, 14]           2,048\n",
            "      BatchNorm2d-64           [-1, 64, 14, 14]             128\n",
            "             ReLU-65           [-1, 64, 14, 14]               0\n",
            "          Dropout-66           [-1, 64, 14, 14]               0\n",
            "       Conv2d_Sep-67           [-1, 64, 14, 14]               0\n",
            "        MaxPool2d-68             [-1, 64, 7, 7]               0\n",
            "           Conv2d-69             [-1, 32, 7, 7]           2,048\n",
            "      BatchNorm2d-70             [-1, 32, 7, 7]              64\n",
            "         MaxPoint-71             [-1, 32, 7, 7]               0\n",
            "           Conv2d-72             [-1, 32, 7, 7]           9,216\n",
            "      BatchNorm2d-73             [-1, 32, 7, 7]              64\n",
            "             ReLU-74             [-1, 32, 7, 7]               0\n",
            "          Dropout-75             [-1, 32, 7, 7]               0\n",
            "       Conv2dBnDr-76             [-1, 32, 7, 7]               0\n",
            "           Conv2d-77             [-1, 32, 7, 7]           9,216\n",
            "      BatchNorm2d-78             [-1, 32, 7, 7]              64\n",
            "             ReLU-79             [-1, 32, 7, 7]               0\n",
            "          Dropout-80             [-1, 32, 7, 7]               0\n",
            "       Conv2dBnDr-81             [-1, 32, 7, 7]               0\n",
            "           Conv2d-82             [-1, 32, 7, 7]           9,216\n",
            "      BatchNorm2d-83             [-1, 32, 7, 7]              64\n",
            "             ReLU-84             [-1, 32, 7, 7]               0\n",
            "          Dropout-85             [-1, 32, 7, 7]               0\n",
            "       Conv2dBnDr-86             [-1, 32, 7, 7]               0\n",
            "        AvgPool2d-87             [-1, 32, 1, 1]               0\n",
            "           Conv2d-88             [-1, 10, 1, 1]             320\n",
            "================================================================\n",
            "Total params: 91,584\n",
            "Trainable params: 91,584\n",
            "Non-trainable params: 0\n",
            "----------------------------------------------------------------\n",
            "Input size (MB): 0.01\n",
            "Forward/backward pass size (MB): 6.04\n",
            "Params size (MB): 0.35\n",
            "Estimated Total Size (MB): 6.40\n",
            "----------------------------------------------------------------\n"
          ],
          "name": "stdout"
        }
      ]
    },
    {
      "cell_type": "code",
      "metadata": {
        "id": "_GegdTa2H8dG",
        "colab_type": "code",
        "colab": {
          "base_uri": "https://localhost:8080/",
          "height": 1000
        },
        "outputId": "e84588b2-bfe6-41c3-cff2-a88e02d84353"
      },
      "source": [
        "\n",
        "EPOCHS = 40\n",
        "mymodel =  mymodel.to(device)\n",
        "\n",
        "train_acc, train_losses, test_acc, test_losses = mf.definemodel(mymodel, device,trainloader=train_loader, testloader=test_loader,epochs=EPOCHS,\n",
        "                                                            lr=0.01,\n",
        "                                                            decay=0.005)"
      ],
      "execution_count": 8,
      "outputs": [
        {
          "output_type": "stream",
          "text": [
            "\r  0%|          | 0/391 [00:00<?, ?it/s]"
          ],
          "name": "stderr"
        },
        {
          "output_type": "stream",
          "text": [
            "EPOCH: 0\n"
          ],
          "name": "stdout"
        },
        {
          "output_type": "stream",
          "text": [
            "Loss=1.785353 Batch_id=390 Accuracy=30.73: 100%|██████████| 391/391 [00:12<00:00, 30.25it/s]\n",
            "  0%|          | 0/391 [00:00<?, ?it/s]"
          ],
          "name": "stderr"
        },
        {
          "output_type": "stream",
          "text": [
            "\n",
            "Test set: Average loss: 2.007276, Accuracy: 2654/10000 (26.54%)\n",
            "\n",
            "EPOCH: 1\n"
          ],
          "name": "stdout"
        },
        {
          "output_type": "stream",
          "text": [
            "Loss=1.359236 Batch_id=390 Accuracy=50.01: 100%|██████████| 391/391 [00:12<00:00, 30.61it/s]\n",
            "  0%|          | 0/391 [00:00<?, ?it/s]"
          ],
          "name": "stderr"
        },
        {
          "output_type": "stream",
          "text": [
            "\n",
            "Test set: Average loss: 1.582086, Accuracy: 4536/10000 (45.36%)\n",
            "\n",
            "EPOCH: 2\n"
          ],
          "name": "stdout"
        },
        {
          "output_type": "stream",
          "text": [
            "Loss=1.140338 Batch_id=390 Accuracy=59.37: 100%|██████████| 391/391 [00:12<00:00, 30.41it/s]\n",
            "  0%|          | 0/391 [00:00<?, ?it/s]"
          ],
          "name": "stderr"
        },
        {
          "output_type": "stream",
          "text": [
            "\n",
            "Test set: Average loss: 1.274837, Accuracy: 5629/10000 (56.29%)\n",
            "\n",
            "EPOCH: 3\n"
          ],
          "name": "stdout"
        },
        {
          "output_type": "stream",
          "text": [
            "Loss=1.024608 Batch_id=390 Accuracy=63.70: 100%|██████████| 391/391 [00:12<00:00, 30.21it/s]\n",
            "  0%|          | 0/391 [00:00<?, ?it/s]"
          ],
          "name": "stderr"
        },
        {
          "output_type": "stream",
          "text": [
            "\n",
            "Test set: Average loss: 1.219810, Accuracy: 5803/10000 (58.03%)\n",
            "\n",
            "EPOCH: 4\n"
          ],
          "name": "stdout"
        },
        {
          "output_type": "stream",
          "text": [
            "Loss=0.958319 Batch_id=390 Accuracy=66.40: 100%|██████████| 391/391 [00:12<00:00, 30.19it/s]\n",
            "  0%|          | 0/391 [00:00<?, ?it/s]"
          ],
          "name": "stderr"
        },
        {
          "output_type": "stream",
          "text": [
            "\n",
            "Test set: Average loss: 1.204564, Accuracy: 6077/10000 (60.77%)\n",
            "\n",
            "EPOCH: 5\n"
          ],
          "name": "stdout"
        },
        {
          "output_type": "stream",
          "text": [
            "Loss=0.899097 Batch_id=390 Accuracy=68.92: 100%|██████████| 391/391 [00:12<00:00, 30.88it/s]\n",
            "  0%|          | 0/391 [00:00<?, ?it/s]"
          ],
          "name": "stderr"
        },
        {
          "output_type": "stream",
          "text": [
            "\n",
            "Test set: Average loss: 1.027118, Accuracy: 6466/10000 (64.66%)\n",
            "\n",
            "EPOCH: 6\n"
          ],
          "name": "stdout"
        },
        {
          "output_type": "stream",
          "text": [
            "Loss=0.865871 Batch_id=390 Accuracy=70.13: 100%|██████████| 391/391 [00:12<00:00, 30.57it/s]\n",
            "  0%|          | 0/391 [00:00<?, ?it/s]"
          ],
          "name": "stderr"
        },
        {
          "output_type": "stream",
          "text": [
            "\n",
            "Test set: Average loss: 0.960142, Accuracy: 6836/10000 (68.36%)\n",
            "\n",
            "EPOCH: 7\n"
          ],
          "name": "stdout"
        },
        {
          "output_type": "stream",
          "text": [
            "Loss=0.839877 Batch_id=390 Accuracy=71.24: 100%|██████████| 391/391 [00:12<00:00, 30.73it/s]\n",
            "  0%|          | 0/391 [00:00<?, ?it/s]"
          ],
          "name": "stderr"
        },
        {
          "output_type": "stream",
          "text": [
            "\n",
            "Test set: Average loss: 0.989315, Accuracy: 6733/10000 (67.33%)\n",
            "\n",
            "EPOCH: 8\n"
          ],
          "name": "stdout"
        },
        {
          "output_type": "stream",
          "text": [
            "Loss=0.677987 Batch_id=390 Accuracy=77.26: 100%|██████████| 391/391 [00:13<00:00, 29.48it/s]\n",
            "  0%|          | 0/391 [00:00<?, ?it/s]"
          ],
          "name": "stderr"
        },
        {
          "output_type": "stream",
          "text": [
            "\n",
            "Test set: Average loss: 0.667291, Accuracy: 7821/10000 (78.21%)\n",
            "\n",
            "EPOCH: 9\n"
          ],
          "name": "stdout"
        },
        {
          "output_type": "stream",
          "text": [
            "Loss=0.643626 Batch_id=390 Accuracy=78.39: 100%|██████████| 391/391 [00:12<00:00, 31.01it/s]\n",
            "  0%|          | 0/391 [00:00<?, ?it/s]"
          ],
          "name": "stderr"
        },
        {
          "output_type": "stream",
          "text": [
            "\n",
            "Test set: Average loss: 0.648517, Accuracy: 7897/10000 (78.97%)\n",
            "\n",
            "EPOCH: 10\n"
          ],
          "name": "stdout"
        },
        {
          "output_type": "stream",
          "text": [
            "Loss=0.622329 Batch_id=390 Accuracy=79.10: 100%|██████████| 391/391 [00:12<00:00, 36.50it/s]\n",
            "  0%|          | 0/391 [00:00<?, ?it/s]"
          ],
          "name": "stderr"
        },
        {
          "output_type": "stream",
          "text": [
            "\n",
            "Test set: Average loss: 0.676844, Accuracy: 7748/10000 (77.48%)\n",
            "\n",
            "EPOCH: 11\n"
          ],
          "name": "stdout"
        },
        {
          "output_type": "stream",
          "text": [
            "Loss=0.613664 Batch_id=390 Accuracy=79.37: 100%|██████████| 391/391 [00:12<00:00, 37.23it/s]\n",
            "  0%|          | 0/391 [00:00<?, ?it/s]"
          ],
          "name": "stderr"
        },
        {
          "output_type": "stream",
          "text": [
            "\n",
            "Test set: Average loss: 0.613433, Accuracy: 8011/10000 (80.11%)\n",
            "\n",
            "EPOCH: 12\n"
          ],
          "name": "stdout"
        },
        {
          "output_type": "stream",
          "text": [
            "Loss=0.600965 Batch_id=390 Accuracy=79.66: 100%|██████████| 391/391 [00:12<00:00, 31.04it/s]\n",
            "  0%|          | 0/391 [00:00<?, ?it/s]"
          ],
          "name": "stderr"
        },
        {
          "output_type": "stream",
          "text": [
            "\n",
            "Test set: Average loss: 0.625813, Accuracy: 7943/10000 (79.43%)\n",
            "\n",
            "EPOCH: 13\n"
          ],
          "name": "stdout"
        },
        {
          "output_type": "stream",
          "text": [
            "Loss=0.599121 Batch_id=390 Accuracy=79.82: 100%|██████████| 391/391 [00:12<00:00, 31.31it/s]\n",
            "  0%|          | 0/391 [00:00<?, ?it/s]"
          ],
          "name": "stderr"
        },
        {
          "output_type": "stream",
          "text": [
            "\n",
            "Test set: Average loss: 0.615573, Accuracy: 7952/10000 (79.52%)\n",
            "\n",
            "EPOCH: 14\n"
          ],
          "name": "stdout"
        },
        {
          "output_type": "stream",
          "text": [
            "Loss=0.585199 Batch_id=390 Accuracy=80.39: 100%|██████████| 391/391 [00:12<00:00, 30.63it/s]\n",
            "  0%|          | 0/391 [00:00<?, ?it/s]"
          ],
          "name": "stderr"
        },
        {
          "output_type": "stream",
          "text": [
            "\n",
            "Test set: Average loss: 0.640698, Accuracy: 7852/10000 (78.52%)\n",
            "\n",
            "EPOCH: 15\n"
          ],
          "name": "stdout"
        },
        {
          "output_type": "stream",
          "text": [
            "Loss=0.579060 Batch_id=390 Accuracy=80.58: 100%|██████████| 391/391 [00:12<00:00, 31.11it/s]\n",
            "  0%|          | 0/391 [00:00<?, ?it/s]"
          ],
          "name": "stderr"
        },
        {
          "output_type": "stream",
          "text": [
            "\n",
            "Test set: Average loss: 0.586733, Accuracy: 8076/10000 (80.76%)\n",
            "\n",
            "EPOCH: 16\n"
          ],
          "name": "stdout"
        },
        {
          "output_type": "stream",
          "text": [
            "Loss=0.545427 Batch_id=390 Accuracy=81.86: 100%|██████████| 391/391 [00:12<00:00, 31.00it/s]\n",
            "  0%|          | 0/391 [00:00<?, ?it/s]"
          ],
          "name": "stderr"
        },
        {
          "output_type": "stream",
          "text": [
            "\n",
            "Test set: Average loss: 0.579217, Accuracy: 8121/10000 (81.21%)\n",
            "\n",
            "EPOCH: 17\n"
          ],
          "name": "stdout"
        },
        {
          "output_type": "stream",
          "text": [
            "Loss=0.543288 Batch_id=390 Accuracy=81.93: 100%|██████████| 391/391 [00:12<00:00, 30.79it/s]\n",
            "  0%|          | 0/391 [00:00<?, ?it/s]"
          ],
          "name": "stderr"
        },
        {
          "output_type": "stream",
          "text": [
            "\n",
            "Test set: Average loss: 0.569813, Accuracy: 8103/10000 (81.03%)\n",
            "\n",
            "EPOCH: 18\n"
          ],
          "name": "stdout"
        },
        {
          "output_type": "stream",
          "text": [
            "Loss=0.536432 Batch_id=390 Accuracy=82.06: 100%|██████████| 391/391 [00:12<00:00, 30.94it/s]\n",
            "  0%|          | 0/391 [00:00<?, ?it/s]"
          ],
          "name": "stderr"
        },
        {
          "output_type": "stream",
          "text": [
            "\n",
            "Test set: Average loss: 0.580087, Accuracy: 8075/10000 (80.75%)\n",
            "\n",
            "EPOCH: 19\n"
          ],
          "name": "stdout"
        },
        {
          "output_type": "stream",
          "text": [
            "Loss=0.536327 Batch_id=390 Accuracy=82.23: 100%|██████████| 391/391 [00:12<00:00, 30.65it/s]\n",
            "  0%|          | 0/391 [00:00<?, ?it/s]"
          ],
          "name": "stderr"
        },
        {
          "output_type": "stream",
          "text": [
            "\n",
            "Test set: Average loss: 0.582236, Accuracy: 8055/10000 (80.55%)\n",
            "\n",
            "EPOCH: 20\n"
          ],
          "name": "stdout"
        },
        {
          "output_type": "stream",
          "text": [
            "Loss=0.534760 Batch_id=390 Accuracy=82.21: 100%|██████████| 391/391 [00:12<00:00, 36.52it/s]\n",
            "  0%|          | 0/391 [00:00<?, ?it/s]"
          ],
          "name": "stderr"
        },
        {
          "output_type": "stream",
          "text": [
            "\n",
            "Test set: Average loss: 0.570445, Accuracy: 8092/10000 (80.92%)\n",
            "\n",
            "EPOCH: 21\n"
          ],
          "name": "stdout"
        },
        {
          "output_type": "stream",
          "text": [
            "Loss=0.532949 Batch_id=390 Accuracy=82.14: 100%|██████████| 391/391 [00:12<00:00, 30.35it/s]\n",
            "  0%|          | 0/391 [00:00<?, ?it/s]"
          ],
          "name": "stderr"
        },
        {
          "output_type": "stream",
          "text": [
            "\n",
            "Test set: Average loss: 0.576020, Accuracy: 8085/10000 (80.85%)\n",
            "\n",
            "EPOCH: 22\n"
          ],
          "name": "stdout"
        },
        {
          "output_type": "stream",
          "text": [
            "Loss=0.530661 Batch_id=390 Accuracy=82.34: 100%|██████████| 391/391 [00:12<00:00, 30.41it/s]\n",
            "  0%|          | 0/391 [00:00<?, ?it/s]"
          ],
          "name": "stderr"
        },
        {
          "output_type": "stream",
          "text": [
            "\n",
            "Test set: Average loss: 0.570276, Accuracy: 8081/10000 (80.81%)\n",
            "\n",
            "EPOCH: 23\n"
          ],
          "name": "stdout"
        },
        {
          "output_type": "stream",
          "text": [
            "Loss=0.531726 Batch_id=390 Accuracy=82.48: 100%|██████████| 391/391 [00:12<00:00, 30.71it/s]\n",
            "  0%|          | 0/391 [00:00<?, ?it/s]"
          ],
          "name": "stderr"
        },
        {
          "output_type": "stream",
          "text": [
            "\n",
            "Test set: Average loss: 0.567270, Accuracy: 8087/10000 (80.87%)\n",
            "\n",
            "EPOCH: 24\n"
          ],
          "name": "stdout"
        },
        {
          "output_type": "stream",
          "text": [
            "Loss=0.527123 Batch_id=390 Accuracy=82.26: 100%|██████████| 391/391 [00:12<00:00, 30.45it/s]\n",
            "  0%|          | 0/391 [00:00<?, ?it/s]"
          ],
          "name": "stderr"
        },
        {
          "output_type": "stream",
          "text": [
            "\n",
            "Test set: Average loss: 0.569495, Accuracy: 8115/10000 (81.15%)\n",
            "\n",
            "EPOCH: 25\n"
          ],
          "name": "stdout"
        },
        {
          "output_type": "stream",
          "text": [
            "Loss=0.526523 Batch_id=390 Accuracy=82.53: 100%|██████████| 391/391 [00:13<00:00, 29.86it/s]\n",
            "  0%|          | 0/391 [00:00<?, ?it/s]"
          ],
          "name": "stderr"
        },
        {
          "output_type": "stream",
          "text": [
            "\n",
            "Test set: Average loss: 0.566836, Accuracy: 8100/10000 (81.00%)\n",
            "\n",
            "EPOCH: 26\n"
          ],
          "name": "stdout"
        },
        {
          "output_type": "stream",
          "text": [
            "Loss=0.522603 Batch_id=390 Accuracy=82.56: 100%|██████████| 391/391 [00:12<00:00, 30.50it/s]\n",
            "  0%|          | 0/391 [00:00<?, ?it/s]"
          ],
          "name": "stderr"
        },
        {
          "output_type": "stream",
          "text": [
            "\n",
            "Test set: Average loss: 0.574329, Accuracy: 8094/10000 (80.94%)\n",
            "\n",
            "EPOCH: 27\n"
          ],
          "name": "stdout"
        },
        {
          "output_type": "stream",
          "text": [
            "Loss=0.528087 Batch_id=390 Accuracy=82.42: 100%|██████████| 391/391 [00:12<00:00, 30.74it/s]\n",
            "  0%|          | 0/391 [00:00<?, ?it/s]"
          ],
          "name": "stderr"
        },
        {
          "output_type": "stream",
          "text": [
            "\n",
            "Test set: Average loss: 0.562823, Accuracy: 8106/10000 (81.06%)\n",
            "\n",
            "EPOCH: 28\n"
          ],
          "name": "stdout"
        },
        {
          "output_type": "stream",
          "text": [
            "Loss=0.522768 Batch_id=390 Accuracy=82.75: 100%|██████████| 391/391 [00:12<00:00, 30.60it/s]\n",
            "  0%|          | 0/391 [00:00<?, ?it/s]"
          ],
          "name": "stderr"
        },
        {
          "output_type": "stream",
          "text": [
            "\n",
            "Test set: Average loss: 0.570699, Accuracy: 8091/10000 (80.91%)\n",
            "\n",
            "EPOCH: 29\n"
          ],
          "name": "stdout"
        },
        {
          "output_type": "stream",
          "text": [
            "Loss=0.524523 Batch_id=390 Accuracy=82.54: 100%|██████████| 391/391 [00:12<00:00, 36.74it/s]\n",
            "  0%|          | 0/391 [00:00<?, ?it/s]"
          ],
          "name": "stderr"
        },
        {
          "output_type": "stream",
          "text": [
            "\n",
            "Test set: Average loss: 0.565379, Accuracy: 8112/10000 (81.12%)\n",
            "\n",
            "EPOCH: 30\n"
          ],
          "name": "stdout"
        },
        {
          "output_type": "stream",
          "text": [
            "Loss=0.522580 Batch_id=390 Accuracy=82.69: 100%|██████████| 391/391 [00:12<00:00, 30.57it/s]\n",
            "  0%|          | 0/391 [00:00<?, ?it/s]"
          ],
          "name": "stderr"
        },
        {
          "output_type": "stream",
          "text": [
            "\n",
            "Test set: Average loss: 0.573202, Accuracy: 8091/10000 (80.91%)\n",
            "\n",
            "EPOCH: 31\n"
          ],
          "name": "stdout"
        },
        {
          "output_type": "stream",
          "text": [
            "Loss=0.523136 Batch_id=390 Accuracy=82.54: 100%|██████████| 391/391 [00:12<00:00, 30.70it/s]\n",
            "  0%|          | 0/391 [00:00<?, ?it/s]"
          ],
          "name": "stderr"
        },
        {
          "output_type": "stream",
          "text": [
            "\n",
            "Test set: Average loss: 0.567773, Accuracy: 8112/10000 (81.12%)\n",
            "\n",
            "EPOCH: 32\n"
          ],
          "name": "stdout"
        },
        {
          "output_type": "stream",
          "text": [
            "Loss=0.528286 Batch_id=390 Accuracy=82.37: 100%|██████████| 391/391 [00:12<00:00, 30.54it/s]\n",
            "  0%|          | 0/391 [00:00<?, ?it/s]"
          ],
          "name": "stderr"
        },
        {
          "output_type": "stream",
          "text": [
            "\n",
            "Test set: Average loss: 0.564982, Accuracy: 8099/10000 (80.99%)\n",
            "\n",
            "EPOCH: 33\n"
          ],
          "name": "stdout"
        },
        {
          "output_type": "stream",
          "text": [
            "Loss=0.522140 Batch_id=390 Accuracy=82.66: 100%|██████████| 391/391 [00:12<00:00, 30.22it/s]\n",
            "  0%|          | 0/391 [00:00<?, ?it/s]"
          ],
          "name": "stderr"
        },
        {
          "output_type": "stream",
          "text": [
            "\n",
            "Test set: Average loss: 0.576345, Accuracy: 8079/10000 (80.79%)\n",
            "\n",
            "EPOCH: 34\n"
          ],
          "name": "stdout"
        },
        {
          "output_type": "stream",
          "text": [
            "Loss=0.523333 Batch_id=390 Accuracy=82.63: 100%|██████████| 391/391 [00:12<00:00, 30.66it/s]\n",
            "  0%|          | 0/391 [00:00<?, ?it/s]"
          ],
          "name": "stderr"
        },
        {
          "output_type": "stream",
          "text": [
            "\n",
            "Test set: Average loss: 0.555784, Accuracy: 8145/10000 (81.45%)\n",
            "\n",
            "EPOCH: 35\n"
          ],
          "name": "stdout"
        },
        {
          "output_type": "stream",
          "text": [
            "Loss=0.522389 Batch_id=390 Accuracy=82.62: 100%|██████████| 391/391 [00:12<00:00, 30.56it/s]\n",
            "  0%|          | 0/391 [00:00<?, ?it/s]"
          ],
          "name": "stderr"
        },
        {
          "output_type": "stream",
          "text": [
            "\n",
            "Test set: Average loss: 0.567188, Accuracy: 8092/10000 (80.92%)\n",
            "\n",
            "EPOCH: 36\n"
          ],
          "name": "stdout"
        },
        {
          "output_type": "stream",
          "text": [
            "Loss=0.522984 Batch_id=390 Accuracy=82.71: 100%|██████████| 391/391 [00:12<00:00, 30.51it/s]\n",
            "  0%|          | 0/391 [00:00<?, ?it/s]"
          ],
          "name": "stderr"
        },
        {
          "output_type": "stream",
          "text": [
            "\n",
            "Test set: Average loss: 0.565278, Accuracy: 8105/10000 (81.05%)\n",
            "\n",
            "EPOCH: 37\n"
          ],
          "name": "stdout"
        },
        {
          "output_type": "stream",
          "text": [
            "Loss=0.525879 Batch_id=390 Accuracy=82.41: 100%|██████████| 391/391 [00:12<00:00, 30.32it/s]\n",
            "  0%|          | 0/391 [00:00<?, ?it/s]"
          ],
          "name": "stderr"
        },
        {
          "output_type": "stream",
          "text": [
            "\n",
            "Test set: Average loss: 0.571939, Accuracy: 8093/10000 (80.93%)\n",
            "\n",
            "EPOCH: 38\n"
          ],
          "name": "stdout"
        },
        {
          "output_type": "stream",
          "text": [
            "Loss=0.523473 Batch_id=390 Accuracy=82.72: 100%|██████████| 391/391 [00:12<00:00, 30.85it/s]\n",
            "  0%|          | 0/391 [00:00<?, ?it/s]"
          ],
          "name": "stderr"
        },
        {
          "output_type": "stream",
          "text": [
            "\n",
            "Test set: Average loss: 0.560833, Accuracy: 8122/10000 (81.22%)\n",
            "\n",
            "EPOCH: 39\n"
          ],
          "name": "stdout"
        },
        {
          "output_type": "stream",
          "text": [
            "Loss=0.522715 Batch_id=390 Accuracy=82.55: 100%|██████████| 391/391 [00:12<00:00, 30.84it/s]\n"
          ],
          "name": "stderr"
        },
        {
          "output_type": "stream",
          "text": [
            "\n",
            "Test set: Average loss: 0.559941, Accuracy: 8136/10000 (81.36%)\n",
            "\n"
          ],
          "name": "stdout"
        }
      ]
    },
    {
      "cell_type": "code",
      "metadata": {
        "id": "GHlu72BRi8bn",
        "colab_type": "code",
        "colab": {
          "base_uri": "https://localhost:8080/",
          "height": 34
        },
        "outputId": "e2b2d56c-a253-4704-810f-a730bc10059c"
      },
      "source": [
        "mf.get_test_accuracy_cifar10(mymodel, device, test_loader)"
      ],
      "execution_count": 9,
      "outputs": [
        {
          "output_type": "stream",
          "text": [
            "Accuracy of the network on the 10000 test images: 81.36 %\n"
          ],
          "name": "stdout"
        }
      ]
    },
    {
      "cell_type": "code",
      "metadata": {
        "id": "6ZU-VqM7jJY2",
        "colab_type": "code",
        "colab": {
          "base_uri": "https://localhost:8080/",
          "height": 193
        },
        "outputId": "21b54cee-483b-4527-a7a3-fda3fec19d27"
      },
      "source": [
        "mf.class_accuracy(mymodel, device, classes, test_loader)"
      ],
      "execution_count": 10,
      "outputs": [
        {
          "output_type": "stream",
          "text": [
            "Accuracy of plane : 87 %\n",
            "Accuracy of   car : 96 %\n",
            "Accuracy of  bird : 63 %\n",
            "Accuracy of   cat : 75 %\n",
            "Accuracy of  deer : 75 %\n",
            "Accuracy of   dog : 74 %\n",
            "Accuracy of  frog : 89 %\n",
            "Accuracy of horse : 90 %\n",
            "Accuracy of  ship : 96 %\n",
            "Accuracy of truck : 89 %\n"
          ],
          "name": "stdout"
        }
      ]
    },
    {
      "cell_type": "code",
      "metadata": {
        "id": "XLaZarIxkt-B",
        "colab_type": "code",
        "colab": {
          "base_uri": "https://localhost:8080/",
          "height": 408
        },
        "outputId": "70832152-7974-4d1d-f57b-0d8e546c3707"
      },
      "source": [
        "\n",
        "\n",
        "pp.model_acc_loss(train_acc,test_acc,train_losses,test_losses)\n"
      ],
      "execution_count": 11,
      "outputs": [
        {
          "output_type": "display_data",
          "data": {
            "image/png": "[encoded data removed]",
            "text/plain": [
              "<Figure size 1800x432 with 2 Axes>"
            ]
          },
          "metadata": {
            "tags": []
          }
        }
      ]
    }
  ]
}